{
  "nbformat": 4,
  "nbformat_minor": 0,
  "metadata": {
    "colab": {
      "provenance": []
    },
    "kernelspec": {
      "name": "python3",
      "display_name": "Python 3"
    },
    "language_info": {
      "name": "python"
    }
  },
  "cells": [
    {
      "cell_type": "code",
      "execution_count": 1,
      "metadata": {
        "id": "QtCWUlm3dVSK"
      },
      "outputs": [],
      "source": [
        "import pandas as pd\n",
        "import numpy as np\n",
        "import matplotlib.pyplot as plt\n",
        "import seaborn as sns\n",
        "import warnings\n",
        "warnings.filterwarnings('ignore')"
      ]
    },
    {
      "cell_type": "code",
      "source": [],
      "metadata": {
        "id": "x-KrYyL3dbw2"
      },
      "execution_count": null,
      "outputs": []
    },
    {
      "cell_type": "markdown",
      "source": [
        "# Batch GD = we will calculkate for all the data and take 1 update accordingly\n",
        "\n",
        "b=beta\n",
        "\n",
        "**y=b0+b1x1+b2x2** for 3d data = cgpa | iq | lpa\n",
        "\n",
        "b0=intercept,b1,b2,b3== coeff_\n",
        "\n",
        "we know that\n",
        "\n",
        "**L== 1/n sum of i=1 to n (yi-y_hat)^2  n=no.of rows**\n",
        "\n",
        "y_hat^0=b0+b1.X1+b2.x2\n",
        "\n",
        "dL/db0 ={-2/n .sum of (yi-y_hat}\n",
        "\n",
        "dL/dbm ={-2/n sum of (yi-y_hat)xim}  xim =x11,x21,x31...\n",
        "\n",
        "\n",
        "\n",
        "**dL/db0= -2.np.mean(yi-y_hat)**  \n",
        "\n",
        "yi=y_train,\n",
        "\n",
        "y_hat=b0+b1x.11+b2.x12+..\n",
        "\n",
        "y__hat=b0+[x11 x12 x3] [b1,b2,b3]^T\n",
        "\n",
        "**y_hat=np.dot(coeff_,x_train)+b0**\n",
        "\n",
        "b0=intercept\n",
        "\n",
        "\n",
        "we know that\n",
        "\n",
        "coeff=\n",
        "\n",
        "b0=b0-lr.slope  of L w.r.t b0\n",
        "\n",
        "b1 =b1-lr.slope pf l w.r.t b1\n",
        "\n",
        "**dL/dbm =-2 .np.dot((y_train-y_hat),x_train)/x_train.shape[0]**  \n",
        "\n",
        "**dl/dbm=-2/n sum of (yi-y_hat)xij**\n",
        "\n",
        "\n",
        "\n",
        "\n"
      ],
      "metadata": {
        "id": "1Hlbs2vyeaG0"
      }
    },
    {
      "cell_type": "code",
      "source": [
        "# by using sklearn\n",
        "from sklearn.linear_model import LinearRegression\n",
        "from sklearn.model_selection import train_test_split\n",
        "from sklearn.metrics import r2_score\n",
        "from sklearn.datasets import load_diabetes\n"
      ],
      "metadata": {
        "id": "I0qCxwXui_I2"
      },
      "execution_count": 2,
      "outputs": []
    },
    {
      "cell_type": "code",
      "source": [
        "x,y=load_diabetes(return_X_y=True)"
      ],
      "metadata": {
        "id": "tQEQe8IHj5mX"
      },
      "execution_count": 3,
      "outputs": []
    },
    {
      "cell_type": "code",
      "source": [
        "x"
      ],
      "metadata": {
        "colab": {
          "base_uri": "https://localhost:8080/"
        },
        "id": "nALE3_wTj9ft",
        "outputId": "0406b2a4-616e-451f-bbd5-e9a9a1c0f51c"
      },
      "execution_count": 4,
      "outputs": [
        {
          "output_type": "execute_result",
          "data": {
            "text/plain": [
              "array([[ 0.03807591,  0.05068012,  0.06169621, ..., -0.00259226,\n",
              "         0.01990749, -0.01764613],\n",
              "       [-0.00188202, -0.04464164, -0.05147406, ..., -0.03949338,\n",
              "        -0.06833155, -0.09220405],\n",
              "       [ 0.08529891,  0.05068012,  0.04445121, ..., -0.00259226,\n",
              "         0.00286131, -0.02593034],\n",
              "       ...,\n",
              "       [ 0.04170844,  0.05068012, -0.01590626, ..., -0.01107952,\n",
              "        -0.04688253,  0.01549073],\n",
              "       [-0.04547248, -0.04464164,  0.03906215, ...,  0.02655962,\n",
              "         0.04452873, -0.02593034],\n",
              "       [-0.04547248, -0.04464164, -0.0730303 , ..., -0.03949338,\n",
              "        -0.00422151,  0.00306441]])"
            ]
          },
          "metadata": {},
          "execution_count": 4
        }
      ]
    },
    {
      "cell_type": "code",
      "source": [
        "x.shape"
      ],
      "metadata": {
        "colab": {
          "base_uri": "https://localhost:8080/"
        },
        "id": "_D7b9L6Cj_UE",
        "outputId": "b37589f7-d005-4114-c428-883b91f0d45f"
      },
      "execution_count": 6,
      "outputs": [
        {
          "output_type": "execute_result",
          "data": {
            "text/plain": [
              "(442, 10)"
            ]
          },
          "metadata": {},
          "execution_count": 6
        }
      ]
    },
    {
      "cell_type": "code",
      "source": [
        "y.shape"
      ],
      "metadata": {
        "colab": {
          "base_uri": "https://localhost:8080/"
        },
        "id": "pw4BJmF2kBC0",
        "outputId": "f18d0ee8-2aad-40b5-bc99-a84100d1dab2"
      },
      "execution_count": 7,
      "outputs": [
        {
          "output_type": "execute_result",
          "data": {
            "text/plain": [
              "(442,)"
            ]
          },
          "metadata": {},
          "execution_count": 7
        }
      ]
    },
    {
      "cell_type": "code",
      "source": [
        "print(load_diabetes()['DESCR'])"
      ],
      "metadata": {
        "colab": {
          "base_uri": "https://localhost:8080/"
        },
        "id": "m-ASAk8TkDdk",
        "outputId": "1dcf50af-badd-40cf-f298-9fe072929002"
      },
      "execution_count": 8,
      "outputs": [
        {
          "output_type": "stream",
          "name": "stdout",
          "text": [
            ".. _diabetes_dataset:\n",
            "\n",
            "Diabetes dataset\n",
            "----------------\n",
            "\n",
            "Ten baseline variables, age, sex, body mass index, average blood\n",
            "pressure, and six blood serum measurements were obtained for each of n =\n",
            "442 diabetes patients, as well as the response of interest, a\n",
            "quantitative measure of disease progression one year after baseline.\n",
            "\n",
            "**Data Set Characteristics:**\n",
            "\n",
            ":Number of Instances: 442\n",
            "\n",
            ":Number of Attributes: First 10 columns are numeric predictive values\n",
            "\n",
            ":Target: Column 11 is a quantitative measure of disease progression one year after baseline\n",
            "\n",
            ":Attribute Information:\n",
            "    - age     age in years\n",
            "    - sex\n",
            "    - bmi     body mass index\n",
            "    - bp      average blood pressure\n",
            "    - s1      tc, total serum cholesterol\n",
            "    - s2      ldl, low-density lipoproteins\n",
            "    - s3      hdl, high-density lipoproteins\n",
            "    - s4      tch, total cholesterol / HDL\n",
            "    - s5      ltg, possibly log of serum triglycerides level\n",
            "    - s6      glu, blood sugar level\n",
            "\n",
            "Note: Each of these 10 feature variables have been mean centered and scaled by the standard deviation times the square root of `n_samples` (i.e. the sum of squares of each column totals 1).\n",
            "\n",
            "Source URL:\n",
            "https://www4.stat.ncsu.edu/~boos/var.select/diabetes.html\n",
            "\n",
            "For more information see:\n",
            "Bradley Efron, Trevor Hastie, Iain Johnstone and Robert Tibshirani (2004) \"Least Angle Regression,\" Annals of Statistics (with discussion), 407-499.\n",
            "(https://web.stanford.edu/~hastie/Papers/LARS/LeastAngle_2002.pdf)\n",
            "\n"
          ]
        }
      ]
    },
    {
      "cell_type": "code",
      "source": [
        "x_train,x_test,y_train,y_test=train_test_split(x,y,test_size=0.2,random_state=2)"
      ],
      "metadata": {
        "id": "Ygi6hPtRkMh0"
      },
      "execution_count": 9,
      "outputs": []
    },
    {
      "cell_type": "code",
      "source": [
        "x_train.shape"
      ],
      "metadata": {
        "colab": {
          "base_uri": "https://localhost:8080/"
        },
        "id": "KXfoOZq_kXzR",
        "outputId": "605deed6-d3c0-4892-ec54-c2aab6177fe7"
      },
      "execution_count": 10,
      "outputs": [
        {
          "output_type": "execute_result",
          "data": {
            "text/plain": [
              "(353, 10)"
            ]
          },
          "metadata": {},
          "execution_count": 10
        }
      ]
    },
    {
      "cell_type": "code",
      "source": [
        "reg=LinearRegression()\n",
        "reg.fit(x_train,y_train)\n",
        "y_pred=reg.predict(x_test)\n",
        "r2_score(y_test,y_pred)\n"
      ],
      "metadata": {
        "colab": {
          "base_uri": "https://localhost:8080/"
        },
        "id": "eF3k93VfkZZp",
        "outputId": "8ba09624-c838-48d8-e748-d0a6ec159554"
      },
      "execution_count": 11,
      "outputs": [
        {
          "output_type": "execute_result",
          "data": {
            "text/plain": [
              "0.4399338661568968"
            ]
          },
          "metadata": {},
          "execution_count": 11
        }
      ]
    },
    {
      "cell_type": "code",
      "source": [
        "print(reg.coef_)\n",
        "print(reg.intercept_)"
      ],
      "metadata": {
        "colab": {
          "base_uri": "https://localhost:8080/"
        },
        "id": "GV34eTdckfMC",
        "outputId": "d19c2e83-6ee6-44a9-b3d2-42dae887a9a7"
      },
      "execution_count": 12,
      "outputs": [
        {
          "output_type": "stream",
          "name": "stdout",
          "text": [
            "[  -9.15865318 -205.45432163  516.69374454  340.61999905 -895.5520019\n",
            "  561.22067904  153.89310954  126.73139688  861.12700152   52.42112238]\n",
            "151.88331005254167\n"
          ]
        }
      ]
    },
    {
      "cell_type": "code",
      "source": [
        "# create your ownm class\n",
        "class BGDRegressor:\n",
        "\n",
        "  def __init__(self,learning_rate=0.01,epochs=100):\n",
        "    self.lr=learning_rate\n",
        "    self.epochs=epochs\n",
        "    self.coef_=None\n",
        "    self.intercept_=None # coeff_=b1,b2,. intercept_=b0\n",
        "\n",
        "  def fit(self,x_train,y_train):\n",
        "    self.intercept_=0\n",
        "    self.coef_=np.ones(x_train.shape[1])  # we assume intially intercept_=0 and coeff_= give array of ones to multiply with x_train\n",
        "    for i in range(self.epochs):\n",
        "      y_hat=np.dot(x_train,self.coef_)+self.intercept_ # y_hat =b0+np.dot(x.coeff_)\n",
        "      slope_intercept_=-2*np.mean(y_train-y_hat) #dl/db0= -2 .np.mean(y-y_hat)\n",
        "      slope_coeff_=-2*np.dot((y_train-y_hat),x_train)/x_train.shape[0] #dl/dbm=-2/n sum of (yi-y_hat)x\n",
        "      self.intercept_=self.intercept_-self.lr*slope_intercept_ # b0=b0-lr.slope\n",
        "      self.coef_=self.coef_-self.lr*slope_coeff_ # b1=b1-lr.slope\n",
        "    print(self.intercept_,self.coef_)\n",
        "\n",
        "  def predict(self,x_test):\n",
        "    return np.dot(x_test,self.coef_)+self.intercept_\n",
        ""
      ],
      "metadata": {
        "id": "8-yq_PprklB9"
      },
      "execution_count": 13,
      "outputs": []
    },
    {
      "cell_type": "code",
      "source": [
        "bgd=BGDRegressor(learning_rate=0.4,epochs=1000)"
      ],
      "metadata": {
        "id": "FSNSQeRkmpps"
      },
      "execution_count": 35,
      "outputs": []
    },
    {
      "cell_type": "code",
      "source": [
        "bgd.fit(x_train,y_train)"
      ],
      "metadata": {
        "colab": {
          "base_uri": "https://localhost:8080/"
        },
        "id": "LQkEayJ_muc0",
        "outputId": "3e0fa8df-6c1e-4ed5-92a1-974cd5e20418"
      },
      "execution_count": 36,
      "outputs": [
        {
          "output_type": "stream",
          "name": "stdout",
          "text": [
            "152.04695545523967 [  23.72258115 -153.73159869  468.33623372  312.6634481   -29.57078448\n",
            " -101.98457793 -193.13547041  109.88215911  425.62365976  108.08959706]\n"
          ]
        }
      ]
    },
    {
      "cell_type": "code",
      "source": [
        "y_pred=bgd.predict(x_test)"
      ],
      "metadata": {
        "id": "q9NwSMlDmxiq"
      },
      "execution_count": 37,
      "outputs": []
    },
    {
      "cell_type": "code",
      "source": [
        "r2_score(y_test,y_pred)"
      ],
      "metadata": {
        "colab": {
          "base_uri": "https://localhost:8080/"
        },
        "id": "ylAUvCcYnRKf",
        "outputId": "50095c29-efbc-456b-a420-f1d57f6bd1bc"
      },
      "execution_count": 38,
      "outputs": [
        {
          "output_type": "execute_result",
          "data": {
            "text/plain": [
              "0.45392659741468355"
            ]
          },
          "metadata": {},
          "execution_count": 38
        }
      ]
    },
    {
      "cell_type": "code",
      "source": [],
      "metadata": {
        "id": "lNzse1rxnZf5"
      },
      "execution_count": null,
      "outputs": []
    }
  ]
}