{
  "nbformat": 4,
  "nbformat_minor": 0,
  "metadata": {
    "colab": {
      "provenance": []
    },
    "kernelspec": {
      "name": "python3",
      "display_name": "Python 3"
    },
    "language_info": {
      "name": "python"
    }
  },
  "cells": [
    {
      "cell_type": "code",
      "execution_count": 2,
      "metadata": {
        "id": "Zz82gednTjuf"
      },
      "outputs": [],
      "source": [
        "import pandas as pd\n",
        "import numpy as np\n",
        "import matplotlib.pyplot as plt\n",
        "import seaborn as sns\n",
        "import warnings\n",
        "warnings.filterwarnings('ignore')"
      ]
    },
    {
      "cell_type": "code",
      "source": [
        "from sklearn.datasets import load_diabetes\n",
        "from sklearn.model_selection import train_test_split\n",
        "from sklearn.linear_model import LinearRegression, Ridge, Lasso,ElasticNet\n",
        "from sklearn.metrics import mean_squared_error, r2_score"
      ],
      "metadata": {
        "id": "K9Mknnn_Tlz0"
      },
      "execution_count": 3,
      "outputs": []
    },
    {
      "cell_type": "code",
      "source": [
        "X,y=load_diabetes(return_X_y=True)"
      ],
      "metadata": {
        "id": "kLdG7DX4UOP9"
      },
      "execution_count": 4,
      "outputs": []
    },
    {
      "cell_type": "code",
      "source": [
        "X"
      ],
      "metadata": {
        "colab": {
          "base_uri": "https://localhost:8080/"
        },
        "id": "atCA8YJzURbE",
        "outputId": "5000b800-d08f-48bb-bff8-1c0852224e8a"
      },
      "execution_count": 5,
      "outputs": [
        {
          "output_type": "execute_result",
          "data": {
            "text/plain": [
              "array([[ 0.03807591,  0.05068012,  0.06169621, ..., -0.00259226,\n",
              "         0.01990749, -0.01764613],\n",
              "       [-0.00188202, -0.04464164, -0.05147406, ..., -0.03949338,\n",
              "        -0.06833155, -0.09220405],\n",
              "       [ 0.08529891,  0.05068012,  0.04445121, ..., -0.00259226,\n",
              "         0.00286131, -0.02593034],\n",
              "       ...,\n",
              "       [ 0.04170844,  0.05068012, -0.01590626, ..., -0.01107952,\n",
              "        -0.04688253,  0.01549073],\n",
              "       [-0.04547248, -0.04464164,  0.03906215, ...,  0.02655962,\n",
              "         0.04452873, -0.02593034],\n",
              "       [-0.04547248, -0.04464164, -0.0730303 , ..., -0.03949338,\n",
              "        -0.00422151,  0.00306441]])"
            ]
          },
          "metadata": {},
          "execution_count": 5
        }
      ]
    },
    {
      "cell_type": "markdown",
      "source": [
        "elastic_net regression is combination of lasso+ridge\n",
        "\n",
        "loss function L= SUM OF I =1 to n (yi-y_hat)^2\n",
        "\n",
        "ridge=SUM OF I =1 to n (yi-y_hat)^2 + lambda . w ^2\n",
        "\n",
        "lasso = SUM OF I =1 to n (yi-y_hat)^2 + lamda .|w|\n",
        "\n",
        "elastic_net =SUM OF I =1 to n (yi-y_hat)^2 + a|w|^2 + b |w|\n",
        "\n",
        "lamda =a+b\n",
        "\n",
        "l1_ratio = a/a+b\n",
        "\n",
        "by default == lamda =1,l1_ratio=0.5\n",
        "\n",
        "if l1_ratio=0.9 mean 90% ridge 10% lasso\n",
        "\n",
        "l1=a/lamda\n",
        "\n",
        "a=lamda. l1\n",
        "\n",
        "b= l-a"
      ],
      "metadata": {
        "id": "R70QxH4NUx5D"
      }
    },
    {
      "cell_type": "code",
      "source": [
        "X_train,X_test,y_train,y_test=train_test_split(X,y,test_size=0.2,random_state=2)"
      ],
      "metadata": {
        "id": "3QTf2V8UUcQi"
      },
      "execution_count": 6,
      "outputs": []
    },
    {
      "cell_type": "code",
      "source": [
        "# linearregression\n",
        "reg=LinearRegression()\n",
        "reg.fit(X_train,y_train)\n",
        "y_pred=reg.predict(X_test)\n",
        "print(r2_score(y_test,y_pred))"
      ],
      "metadata": {
        "colab": {
          "base_uri": "https://localhost:8080/"
        },
        "id": "yzFkclBIWTHj",
        "outputId": "686889fb-93a7-4f98-97c7-05df2141795a"
      },
      "execution_count": 7,
      "outputs": [
        {
          "output_type": "stream",
          "name": "stdout",
          "text": [
            "0.4399338661568968\n"
          ]
        }
      ]
    },
    {
      "cell_type": "code",
      "source": [
        "# by ridge\n",
        "reg=Ridge(alpha=0.1)\n",
        "reg.fit(X_train,y_train)\n",
        "y_pred=reg.predict(X_test)\n",
        "print(r2_score(y_test,y_pred))"
      ],
      "metadata": {
        "colab": {
          "base_uri": "https://localhost:8080/"
        },
        "id": "LtMB8jY_Wc9k",
        "outputId": "daeb58b5-082e-4ae4-fad5-bde3e0c0d1b6"
      },
      "execution_count": 8,
      "outputs": [
        {
          "output_type": "stream",
          "name": "stdout",
          "text": [
            "0.45199494197195456\n"
          ]
        }
      ]
    },
    {
      "cell_type": "code",
      "source": [
        "# by lasso\n",
        "reg=Lasso(alpha=0.01)\n",
        "reg.fit(X_train,y_train)\n",
        "y_pred=reg.predict(X_test)\n",
        "print(r2_score(y_test,y_pred))"
      ],
      "metadata": {
        "colab": {
          "base_uri": "https://localhost:8080/"
        },
        "id": "CPD141BkWgy7",
        "outputId": "de34f242-c09b-44b1-f89d-a646675b3f39"
      },
      "execution_count": 9,
      "outputs": [
        {
          "output_type": "stream",
          "name": "stdout",
          "text": [
            "0.44111855963110613\n"
          ]
        }
      ]
    },
    {
      "cell_type": "code",
      "source": [
        "# by elastic_net\n",
        "reg=ElasticNet(alpha=0.005,l1_ratio=0.9)\n",
        "reg.fit(X_train,y_train)\n",
        "y_pred=reg.predict(X_test)\n",
        "print(r2_score(y_test,y_pred))"
      ],
      "metadata": {
        "colab": {
          "base_uri": "https://localhost:8080/"
        },
        "id": "afnu8YFgWjlq",
        "outputId": "f71bb021-158a-4a69-ba95-8304428d2805"
      },
      "execution_count": 10,
      "outputs": [
        {
          "output_type": "stream",
          "name": "stdout",
          "text": [
            "0.4531474541554823\n"
          ]
        }
      ]
    },
    {
      "cell_type": "code",
      "source": [
        "#by Sgdregressor\n",
        "from sklearn.linear_model import SGDRegressor\n",
        "reg=SGDRegressor(penalty='elasticnet',alpha=1,l1_ratio=0.5,learning_rate='constant',eta0=0.1)\n",
        "reg.fit(X_train,y_train)\n",
        "y_pred=reg.predict(X_test)\n",
        "print(r2_score(y_test,y_pred))\n"
      ],
      "metadata": {
        "colab": {
          "base_uri": "https://localhost:8080/"
        },
        "id": "tnspnj_oWrOU",
        "outputId": "53356099-15c7-48af-ca8d-14558d699bc2"
      },
      "execution_count": 16,
      "outputs": [
        {
          "output_type": "stream",
          "name": "stdout",
          "text": [
            "-0.11463509378228398\n"
          ]
        }
      ]
    },
    {
      "cell_type": "code",
      "source": [],
      "metadata": {
        "id": "6H0XbWNwW51r"
      },
      "execution_count": null,
      "outputs": []
    }
  ]
}